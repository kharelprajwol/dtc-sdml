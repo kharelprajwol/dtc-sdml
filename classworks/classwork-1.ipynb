{
 "cells": [
  {
   "cell_type": "markdown",
   "id": "7f51dcd5-a4a7-4383-b303-92ae3d7e5d67",
   "metadata": {},
   "source": [
    "# Q1. Flatten a Nested List and find the 2nd Largest Number from it"
   ]
  },
  {
   "cell_type": "markdown",
   "id": "255b8af0-61f6-4dd2-93d9-1bef003bf41c",
   "metadata": {},
   "source": [
    "### Creating Nested Lists"
   ]
  },
  {
   "cell_type": "code",
   "execution_count": 60,
   "id": "10c6f4e7-27ba-47da-99bc-00d6c14b3204",
   "metadata": {},
   "outputs": [
    {
     "name": "stdout",
     "output_type": "stream",
     "text": [
      "One-Level Nested List: [[1, 2, 3], [6, 7], [3], [5, 8, 9]]\n",
      "Multi-Layer Nested List: [[1, 2], [3, [6, 7]], [6], [5, [8, 9]]]\n"
     ]
    }
   ],
   "source": [
    "# One-Level Nested List\n",
    "one_level_nested_list = [[1,2,3],[6,7],[3],[5,8,9]]\n",
    "print(f\"One-Level Nested List: {one_level_nested_list}\")\n",
    "\n",
    "# Multi-Level Nested List\n",
    "multi_level_nested_list = [[1,2],[3,[6,7]],[6],[5,[8,9]]]\n",
    "print(f\"Multi-Layer Nested List: {multi_level_nested_list}\")"
   ]
  },
  {
   "cell_type": "markdown",
   "id": "16924fb2-e9ea-46f6-bb53-f36bf961d1b8",
   "metadata": {},
   "source": [
    "### Flattening One-Level Nested List\n",
    "##### For one-level nested list, list comprehension works fine when we want to flaten"
   ]
  },
  {
   "cell_type": "code",
   "execution_count": 61,
   "id": "3342deb2-e124-4d26-a1a4-2d0cd3804e56",
   "metadata": {},
   "outputs": [
    {
     "name": "stdout",
     "output_type": "stream",
     "text": [
      "Flat List: [1, 2, 3, 6, 7, 3, 5, 8, 9]\n"
     ]
    }
   ],
   "source": [
    "flat_list = [item for inner_list in one_level_nested_list for item in inner_list]\n",
    "print(f\"Flat List: {flat_list}\")"
   ]
  },
  {
   "cell_type": "markdown",
   "id": "301ab78f-8e3c-4a66-bc70-d53700ed69de",
   "metadata": {},
   "source": [
    "### Flattening Multi-Level Nested List\n",
    "##### For multi-level nested list, we use recursive approach when we want to flaten"
   ]
  },
  {
   "cell_type": "code",
   "execution_count": 62,
   "id": "44a628d4-ec24-4ab1-98fc-fbd137fcbb73",
   "metadata": {},
   "outputs": [
    {
     "name": "stdout",
     "output_type": "stream",
     "text": [
      "Flat List: [1, 2, 3, 6, 7, 6, 5, 8, 9]\n"
     ]
    }
   ],
   "source": [
    "def flatten_list(nested_list: list) -> list:\n",
    "    '''\n",
    "    takes nested list and returns a list after flattening\n",
    "    '''\n",
    "    flat_list = []  # empty list\n",
    "    for item in nested_list:\n",
    "        if isinstance(item, list): # checking if an item in nested list is also a list\n",
    "            flat_list.extend(flatten_list(item))  # if yes, all the nested list keeps being extended to flat list\n",
    "        else:\n",
    "            flat_list.append(item)  # if no, the item gets appended\n",
    "    return flat_list\n",
    "\n",
    "flat_list = flatten_list(multi_level_nested_list)\n",
    "print(f\"Flat List: {flat_list}\")"
   ]
  },
  {
   "cell_type": "markdown",
   "id": "7bc59d27-71ec-43fb-addd-1e8b7fadf1dc",
   "metadata": {},
   "source": [
    "### Removing Duplicate Values\n",
    "##### Since we want 2nd largest number, we can remove duplicate values so that it will be easy for us to sort in descending order\n",
    "##### We can do this by converting our list to a set and then we convert set back to a list"
   ]
  },
  {
   "cell_type": "code",
   "execution_count": 63,
   "id": "5ee17b73-71ce-4b17-a3d5-1fbee0327b4f",
   "metadata": {},
   "outputs": [
    {
     "name": "stdout",
     "output_type": "stream",
     "text": [
      "Flat list after removing duplicates: [1, 2, 3, 5, 6, 7, 8, 9]\n"
     ]
    }
   ],
   "source": [
    "flat_list = list(set(flat_list))\n",
    "print(f\"Flat list after removing duplicates: {flat_list}\")"
   ]
  },
  {
   "cell_type": "markdown",
   "id": "5bf983a7-60d0-474d-aec4-caf10cb1f7a9",
   "metadata": {},
   "source": [
    "### Descending Sorting Using Bubble Sort and Returning Second Largest Number\n",
    "##### We can now sort our flat list in descending order and return the number in index 1"
   ]
  },
  {
   "cell_type": "code",
   "execution_count": 64,
   "id": "dfea75d3-6524-477b-86a0-f731decc47e2",
   "metadata": {},
   "outputs": [
    {
     "name": "stdout",
     "output_type": "stream",
     "text": [
      "Second Largest Number: 8\n"
     ]
    }
   ],
   "source": [
    "def sort_and_return(flat_list: list, n: int) -> int:\n",
    "    for index in range(n):  # looping n times\n",
    "        for idx, element in enumerate(flat_list[index + 1:]):\n",
    "            if flat_list[index] < element:\n",
    "                flat_list[index],flat_list[index+idx+1] = flat_list[index+idx+1],  flat_list[index]\n",
    "    return flat_list[n-1]\n",
    "\n",
    "second_largest_number = sort_and_return(flat_list,2)\n",
    "print(f\"Second Largest Number: {second_largest_number}\")"
   ]
  },
  {
   "cell_type": "markdown",
   "id": "c29a1e83-9060-4e0e-a94c-51dbe42c3b2d",
   "metadata": {},
   "source": [
    "# Q2. Write a Code that implements the Matrix Multiplication on python using the Nested List approach?"
   ]
  },
  {
   "cell_type": "code",
   "execution_count": 65,
   "id": "4c61d050-9f87-4404-86bf-56c47f9c495b",
   "metadata": {},
   "outputs": [
    {
     "name": "stdout",
     "output_type": "stream",
     "text": [
      "Result Matrix:\n",
      "[61, 95]\n",
      "[142, 185]\n"
     ]
    }
   ],
   "source": [
    "def matrix_multiplication(A, B):\n",
    "    '''\n",
    "    takes two matrix with same dimension, performs multiplication and returns new result matrix\n",
    "    '''\n",
    "    \n",
    "    # Getting the dimensions of the matrices\n",
    "    rows_A = len(A)\n",
    "    cols_A = len(A[0])\n",
    "    rows_B = len(B)\n",
    "    cols_B = len(B[0])\n",
    "    \n",
    "    # Checking if number of columns in A is equal to the number of rows in B\n",
    "    if cols_A != rows_B:\n",
    "        print(\"Number of columns in A must equal number of rows in B\")\n",
    "    \n",
    "    # Initializing the result matrix with zeros using list comprehension\n",
    "    result = [[0 for _ in range(cols_B)] for _ in range(rows_A)]\n",
    "    \n",
    "    # Performing matrix multiplication\n",
    "    for i in range(rows_A):\n",
    "        for j in range(cols_B):\n",
    "            for k in range(cols_A):  # or range(rows_B)\n",
    "                result[i][j] += A[i][k] * B[k][j]\n",
    "                \n",
    "    # returing result matrix\n",
    "    return result\n",
    "\n",
    "\n",
    "# Example Matrix Multiplication\n",
    "A = [\n",
    "    [1, 5, 3],\n",
    "    [7, 5, 6]\n",
    "]\n",
    "\n",
    "B = [\n",
    "    [7, 9],\n",
    "    [3, 10],\n",
    "    [13, 12]\n",
    "]\n",
    "\n",
    "result = matrix_multiplication(A, B)\n",
    "\n",
    "print(\"Result Matrix:\")\n",
    "for row in result:\n",
    "    print(row)"
   ]
  },
  {
   "cell_type": "code",
   "execution_count": null,
   "id": "f28883a4-faa5-450c-8980-2a0037449f6e",
   "metadata": {},
   "outputs": [],
   "source": []
  }
 ],
 "metadata": {
  "kernelspec": {
   "display_name": "Python 3 (ipykernel)",
   "language": "python",
   "name": "python3"
  },
  "language_info": {
   "codemirror_mode": {
    "name": "ipython",
    "version": 3
   },
   "file_extension": ".py",
   "mimetype": "text/x-python",
   "name": "python",
   "nbconvert_exporter": "python",
   "pygments_lexer": "ipython3",
   "version": "3.12.4"
  }
 },
 "nbformat": 4,
 "nbformat_minor": 5
}
