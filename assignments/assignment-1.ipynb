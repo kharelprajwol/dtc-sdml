{
 "cells": [
  {
   "cell_type": "markdown",
   "id": "bd0cb548-fab3-43bd-9827-f758572167fa",
   "metadata": {},
   "source": [
    "# Understanding Tuples in Python"
   ]
  },
  {
   "cell_type": "markdown",
   "id": "4837b11a-a518-481c-b8c0-23b2e00e385d",
   "metadata": {},
   "source": [
    "### Introduction"
   ]
  },
  {
   "cell_type": "markdown",
   "id": "806fa4e1-5b2e-4548-b5db-252801163328",
   "metadata": {},
   "source": [
    "Tuple is one of the 4 built-in data types in Python (other 3 are List, Sets and Dictionary) used to store collection of data. Just like in list, in tuple we can store multiple items in a single variable in an ordered manner. Unlike list, Tuples are immutable, meaning once created, their items cannot be changed. This distinct feature makes tuple useful for storing data that should remain constant throughout the program."
   ]
  },
  {
   "cell_type": "markdown",
   "id": "a29534d0-6e77-4759-ac94-0ca616d508a8",
   "metadata": {},
   "source": [
    "### Creating Tuples\n",
    "Tuples can be created by placing comma-seperated sequence if values within parenthesis \"()\"."
   ]
  },
  {
   "cell_type": "code",
   "execution_count": 154,
   "id": "82734bd5-2016-49d8-bc95-5f4ef6d0a087",
   "metadata": {},
   "outputs": [
    {
     "name": "stdout",
     "output_type": "stream",
     "text": [
      "Empty Tuple: ()\n",
      "Single Element Tuple: (1,)\n",
      "Multi-Element Tuple: (2, 3, 4, 5, 5)\n",
      "Mixed Tuple: (5, 'Hello', 3.75, True)\n"
     ]
    }
   ],
   "source": [
    "# Creating an empty tuple\n",
    "empty_tuple = ()\n",
    "\n",
    "# Creating a single element tuple\n",
    "'''\n",
    "To create a tuple with a single element, we must add a comma after the element\n",
    "'''\n",
    "single_element_tuple = (1,)\n",
    "\n",
    "# Creating a tuple with mutiple element\n",
    "multi_element_tuple = (2, 3, 4, 5, 5)\n",
    "\n",
    "# Creating a muti-element tuple with different types of values\n",
    "mixed_tuple = (5, \"Hello\", 3.75, True)\n",
    "\n",
    "print(\"Empty Tuple:\", empty_tuple)\n",
    "print(\"Single Element Tuple:\", single_element_tuple)\n",
    "print(\"Multi-Element Tuple:\", multi_element_tuple)\n",
    "print(\"Mixed Tuple:\", mixed_tuple)"
   ]
  },
  {
   "cell_type": "markdown",
   "id": "3a074c2c-94d7-45b7-8b50-1da4abace343",
   "metadata": {},
   "source": [
    "### Accessing Tuple Elements\n",
    "Tuple elements can be accessed using indexing and slicing just like in list."
   ]
  },
  {
   "cell_type": "markdown",
   "id": "fc60b639-002c-40fa-a10d-ee150bc5f9fe",
   "metadata": {},
   "source": [
    "##### Indexing (Positive & Negative)"
   ]
  },
  {
   "cell_type": "code",
   "execution_count": 155,
   "id": "44e5daac-b79e-479f-b475-4ddb563bb8cb",
   "metadata": {},
   "outputs": [
    {
     "name": "stdout",
     "output_type": "stream",
     "text": [
      "First Element: 5\n",
      "<class 'int'>\n",
      "--------------------------------\n",
      "Last Element: True\n",
      "<class 'bool'>\n"
     ]
    }
   ],
   "source": [
    "first_element = mixed_tuple[0]\n",
    "last_element = mixed_tuple[-1]\n",
    "\n",
    "print(\"First Element:\", first_element)\n",
    "print(type(first_element))\n",
    "print(\"--------------------------------\")\n",
    "print(\"Last Element:\", last_element)\n",
    "print(type(last_element))"
   ]
  },
  {
   "cell_type": "markdown",
   "id": "5844d922-258e-445d-abaa-4c4de2b115ae",
   "metadata": {},
   "source": [
    "##### Slicing"
   ]
  },
  {
   "cell_type": "code",
   "execution_count": 156,
   "id": "812f89c7-65bc-4b94-bbef-0b18f241a4d3",
   "metadata": {},
   "outputs": [
    {
     "name": "stdout",
     "output_type": "stream",
     "text": [
      "Sliced Tuple: (3, 4)\n",
      "New tuple contains element from index 1 to 2 of its original tuple.\n"
     ]
    }
   ],
   "source": [
    "'''\n",
    "We can return a subset of elements from a table by specifying a range of indices using colon \":\" operator.\n",
    "'''\n",
    "sliced_tuple = multi_element_tuple[1:3]\n",
    "print(\"Sliced Tuple:\", sliced_tuple)\n",
    "print(\"New tuple contains element from index 1 to 2 of its original tuple.\")"
   ]
  },
  {
   "cell_type": "markdown",
   "id": "1e12c266-3ac0-43ef-a912-24e036d435ef",
   "metadata": {},
   "source": [
    "### Tuple Operations\n",
    "Due to its immutable nature, Tuple support a limited set of operations compared to lists. Given below are some key operations."
   ]
  },
  {
   "cell_type": "markdown",
   "id": "867100fc-fa23-4bff-8d6a-10681c6512e5",
   "metadata": {},
   "source": [
    "##### Concatenation: combining tuples using \"+\" operator"
   ]
  },
  {
   "cell_type": "code",
   "execution_count": 157,
   "id": "76fdde3e-4e55-4fd2-901b-cd9b30202460",
   "metadata": {},
   "outputs": [
    {
     "name": "stdout",
     "output_type": "stream",
     "text": [
      "Concatenated Tuple: (2, 3, 4, 5, 5, 5, 'Hello', 3.75, True)\n"
     ]
    }
   ],
   "source": [
    "concatenated_tuple = multi_element_tuple + mixed_tuple\n",
    "print(\"Concatenated Tuple:\", concatenated_tuple)"
   ]
  },
  {
   "cell_type": "markdown",
   "id": "3d20a1c4-e438-4968-82ac-719d438c772b",
   "metadata": {},
   "source": [
    "##### Repetition: Repeating a tuple for specified number of times using \"*\" operator"
   ]
  },
  {
   "cell_type": "code",
   "execution_count": 158,
   "id": "3f47cdf6-b535-4fe6-bd36-11ace377e378",
   "metadata": {},
   "outputs": [
    {
     "name": "stdout",
     "output_type": "stream",
     "text": [
      "(5, 'Hello', 3.75, True, 5, 'Hello', 3.75, True, 5, 'Hello', 3.75, True)\n"
     ]
    }
   ],
   "source": [
    "result = mixed_tuple * 3\n",
    "print(result)"
   ]
  },
  {
   "cell_type": "markdown",
   "id": "5fb98d15-fc99-4022-851c-cbd7ffd7312d",
   "metadata": {},
   "source": [
    "##### Membership Testing: If an element exists in a tuple using \"in\" keyword"
   ]
  },
  {
   "cell_type": "code",
   "execution_count": 159,
   "id": "c9984765-a1d4-4dcc-9831-2e39fb5e1344",
   "metadata": {},
   "outputs": [
    {
     "name": "stdout",
     "output_type": "stream",
     "text": [
      "Is there 4 in multi_element_tuple? True\n",
      "Is there a word 'World' in mixed_tuple? False\n"
     ]
    }
   ],
   "source": [
    "result = 4 in multi_element_tuple\n",
    "print(\"Is there 4 in multi_element_tuple?\", result)\n",
    "\n",
    "result = \"World\" in mixed_tuple\n",
    "print(\"Is there a word 'World' in mixed_tuple?\", result)"
   ]
  },
  {
   "cell_type": "markdown",
   "id": "099aa902-47f1-4f1c-b7bc-1e7464f345f0",
   "metadata": {},
   "source": [
    "##### Length"
   ]
  },
  {
   "cell_type": "code",
   "execution_count": 160,
   "id": "b4734003-1fba-470f-9057-0703e2506ca3",
   "metadata": {},
   "outputs": [
    {
     "name": "stdout",
     "output_type": "stream",
     "text": [
      "Number of elements in our single element tuple: 1\n"
     ]
    }
   ],
   "source": [
    "length = len(single_element_tuple)\n",
    "print(\"Number of elements in our single element tuple:\",length)"
   ]
  },
  {
   "cell_type": "markdown",
   "id": "e1ed4d9c-6db8-4aa5-b8fc-577ff35dbb44",
   "metadata": {},
   "source": [
    "### Tuple Methods\n",
    "Tuples have a few built-in methods that allow us to perform specific operations.\n",
    "Given below are most commonly used tuple methods."
   ]
  },
  {
   "cell_type": "markdown",
   "id": "f59c89c5-d62a-4e27-b192-1402447c8ba2",
   "metadata": {},
   "source": [
    "##### count()\n",
    "Returns the number of occurrences of a specified element in a tuple."
   ]
  },
  {
   "cell_type": "code",
   "execution_count": 161,
   "id": "29e98784-de0a-4dca-80a2-fc1156dda9f1",
   "metadata": {},
   "outputs": [
    {
     "name": "stdout",
     "output_type": "stream",
     "text": [
      "Count of 2 in multi-element tuple: 1\n",
      "Count of 5 in multi-element tuple: 2\n"
     ]
    }
   ],
   "source": [
    "count = multi_element_tuple.count(2)\n",
    "print(\"Count of 2 in multi-element tuple:\", count)\n",
    "\n",
    "count = multi_element_tuple.count(5)\n",
    "print(\"Count of 5 in multi-element tuple:\", count)"
   ]
  },
  {
   "cell_type": "markdown",
   "id": "afc1cea5-02b2-433f-a989-13ed77ad3993",
   "metadata": {},
   "source": [
    "##### index()\n",
    "Returns the index of the first occurence of a specified element in a tuple."
   ]
  },
  {
   "cell_type": "code",
   "execution_count": 162,
   "id": "ac8eb07e-f2ea-4e42-bc4d-fd2ead04e6c1",
   "metadata": {},
   "outputs": [
    {
     "name": "stdout",
     "output_type": "stream",
     "text": [
      "Index of 3.75 in mixed tuple: 2\n"
     ]
    }
   ],
   "source": [
    "idx = mixed_tuple.index(3.75)\n",
    "print(\"Index of 3.75 in mixed tuple:\", idx)"
   ]
  },
  {
   "cell_type": "markdown",
   "id": "0d6c783f-4fac-4c43-bb82-eca821b459fe",
   "metadata": {},
   "source": [
    "##### len()\n",
    "Returns the number of elements in a tuple."
   ]
  },
  {
   "cell_type": "code",
   "execution_count": 163,
   "id": "08932a8d-87c7-4f8e-b767-e575a9b33240",
   "metadata": {},
   "outputs": [
    {
     "name": "stdout",
     "output_type": "stream",
     "text": [
      "Length of single element tuple: 1\n",
      "Length of multi-element tuple: 5\n",
      "Length of mixed tuple: 4\n"
     ]
    }
   ],
   "source": [
    "single_element_tuple_len = len(single_element_tuple)\n",
    "print(\"Length of single element tuple:\", single_element_tuple_len)\n",
    "\n",
    "multi_element_tuple_len = len(multi_element_tuple)\n",
    "print(\"Length of multi-element tuple:\", multi_element_tuple_len)\n",
    "\n",
    "mixed_tuple_len = len(mixed_tuple)\n",
    "print(\"Length of mixed tuple:\", mixed_tuple_len)"
   ]
  },
  {
   "cell_type": "markdown",
   "id": "aa28cd2b-c8b0-430c-bb04-0367b6e03958",
   "metadata": {},
   "source": [
    "##### min()\n",
    "Returns the smallest element in a tuple."
   ]
  },
  {
   "cell_type": "code",
   "execution_count": 164,
   "id": "48640e26-a9f2-46c2-96bd-dd3e3274b9fe",
   "metadata": {},
   "outputs": [
    {
     "name": "stdout",
     "output_type": "stream",
     "text": [
      "Smallest value in multi-element tuple: 2\n"
     ]
    }
   ],
   "source": [
    "min_value = min(multi_element_tuple)\n",
    "print(\"Smallest value in multi-element tuple:\", min_value)"
   ]
  },
  {
   "cell_type": "markdown",
   "id": "fb100496-b03f-48e5-b856-2186a492b1e4",
   "metadata": {},
   "source": [
    "##### max()\n",
    "Returns the largest element in a tuple."
   ]
  },
  {
   "cell_type": "code",
   "execution_count": 165,
   "id": "e7ca4101-9e2d-4447-91ba-4000d863c73f",
   "metadata": {},
   "outputs": [
    {
     "name": "stdout",
     "output_type": "stream",
     "text": [
      "Largest value in multi-element tuple: 5\n"
     ]
    }
   ],
   "source": [
    "max_value = max(multi_element_tuple)\n",
    "print(\"Largest value in multi-element tuple:\", max_value)"
   ]
  },
  {
   "cell_type": "markdown",
   "id": "14f0450f-4039-4a0a-b534-3757cfdc800c",
   "metadata": {},
   "source": [
    "##### tuple()\n",
    "Converts an iterable object into a tuple."
   ]
  },
  {
   "cell_type": "code",
   "execution_count": 166,
   "id": "63fa70b3-c80c-4f69-9672-c25023321bc2",
   "metadata": {},
   "outputs": [
    {
     "name": "stdout",
     "output_type": "stream",
     "text": [
      "<class 'tuple'>\n"
     ]
    }
   ],
   "source": [
    "my_list = [1, 2, 3, 4, 5]\n",
    "my_tuple = tuple(my_list)\n",
    "print(type(my_tuple))"
   ]
  },
  {
   "cell_type": "markdown",
   "id": "df24069f-6143-4f2e-93f3-bb91b6a472e8",
   "metadata": {},
   "source": [
    "### Use Cases for Tuples\n",
    "##### 1. **Data Integrity**: Since tuples are immutable, they can be used to store data that should not change.\n",
    "##### 2. **Unpacking**: Tuples can be used for unpacking data easily.\n",
    "##### 3. **Dictionary Keys**: Tuples can be used as keys in dictionaries because they are hashable.\n",
    "##### 4. **Multiple Return Values**: Functions can return multiple values using tuples."
   ]
  },
  {
   "cell_type": "code",
   "execution_count": null,
   "id": "636bca86-43cd-47f2-ab16-24e7c4cfc421",
   "metadata": {},
   "outputs": [],
   "source": []
  },
  {
   "cell_type": "markdown",
   "id": "1bbd7d42-cd0b-4751-9934-7a159fcf4827",
   "metadata": {},
   "source": [
    "# Understanding Dictionary in Python"
   ]
  },
  {
   "cell_type": "markdown",
   "id": "84f53891-3848-4f0e-bf8d-62f5e9efe57a",
   "metadata": {},
   "source": [
    "### Introduction\n",
    "Unlike tuples and lists, which store items in an ordered manner, dictionaries store data in key-value pairs. Each key is unique and acts as an identifier for its corresponding value, allowing for efficient data retrieval. Dictionaries are mutable, meaning we can add, remove, or change items after the dictionary has been created. This flexibility makes dictionaries useful for scenarios where we need to map values with unique identifiers, such as storing user information, configuration settings etc.\n"
   ]
  },
  {
   "cell_type": "markdown",
   "id": "2c637b2c-14d6-4840-aea6-30e88707a1cc",
   "metadata": {},
   "source": [
    "### Creating Dictionary"
   ]
  },
  {
   "cell_type": "code",
   "execution_count": 167,
   "id": "29692494-f3e0-415a-bc84-e07ea33a7c9d",
   "metadata": {},
   "outputs": [
    {
     "name": "stdout",
     "output_type": "stream",
     "text": [
      "<class 'dict'>\n",
      "{'name': 'Prajwol', 'age': 23, 'city': 'Kathmandu'}\n"
     ]
    }
   ],
   "source": [
    "student = {\n",
    "    \"name\": \"Prajwol\",\n",
    "    \"age\": 23,\n",
    "    \"city\": \"Kathmandu\"\n",
    "}\n",
    "\n",
    "print(type(student))\n",
    "print(student)"
   ]
  },
  {
   "cell_type": "markdown",
   "id": "96cfa2b3-6e08-458b-944f-6056ab9b3cb0",
   "metadata": {},
   "source": [
    "### Accessing Elements"
   ]
  },
  {
   "cell_type": "code",
   "execution_count": 168,
   "id": "c45fc93e-ebd2-4c80-9ef1-c17bde4c0c22",
   "metadata": {},
   "outputs": [
    {
     "name": "stdout",
     "output_type": "stream",
     "text": [
      "Name on a student: Prajwol\n"
     ]
    }
   ],
   "source": [
    "# Accessing values by key\n",
    "name = student[\"name\"]\n",
    "print(\"Name on a student:\", name)"
   ]
  },
  {
   "cell_type": "code",
   "execution_count": 169,
   "id": "adf944cd-234b-4cd8-a272-0181ab7113ef",
   "metadata": {},
   "outputs": [
    {
     "name": "stdout",
     "output_type": "stream",
     "text": [
      "Prajwol lives in Kathmandu\n"
     ]
    }
   ],
   "source": [
    "# Accessing using get() method\n",
    "name = student.get(\"name\")\n",
    "city = student.get(\"city\")\n",
    "print(f\"{name} lives in {city}\")"
   ]
  },
  {
   "cell_type": "markdown",
   "id": "14bfa2b4-c60f-4e59-a608-a7ff3ed171a2",
   "metadata": {},
   "source": [
    "### Iterating through a Dictionary"
   ]
  },
  {
   "cell_type": "code",
   "execution_count": 170,
   "id": "01c51fbb-5454-4199-a105-4628aaade62e",
   "metadata": {},
   "outputs": [
    {
     "name": "stdout",
     "output_type": "stream",
     "text": [
      "name\n",
      "age\n",
      "city\n"
     ]
    }
   ],
   "source": [
    "# Keys\n",
    "for key in student:\n",
    "    print(key)"
   ]
  },
  {
   "cell_type": "code",
   "execution_count": 171,
   "id": "7288bd3a-fee6-403d-8f2c-eb5f61371586",
   "metadata": {},
   "outputs": [
    {
     "name": "stdout",
     "output_type": "stream",
     "text": [
      "Prajwol\n",
      "23\n",
      "Kathmandu\n"
     ]
    }
   ],
   "source": [
    "# Values\n",
    "for value in student.values():\n",
    "    print(value)"
   ]
  },
  {
   "cell_type": "code",
   "execution_count": 172,
   "id": "57e34e8d-b150-4b09-8781-a28a60242b36",
   "metadata": {},
   "outputs": [
    {
     "name": "stdout",
     "output_type": "stream",
     "text": [
      "name: Prajwol\n",
      "age: 23\n",
      "city: Kathmandu\n"
     ]
    }
   ],
   "source": [
    "# Key-Value Pairs\n",
    "for key, value in student.items():\n",
    "    print(f\"{key}: {value}\")"
   ]
  },
  {
   "cell_type": "markdown",
   "id": "b375ff36-eaf8-4c89-b8ff-6c51aeccc712",
   "metadata": {},
   "source": [
    "### Dictionary Operations"
   ]
  },
  {
   "cell_type": "code",
   "execution_count": 173,
   "id": "0335e95b-5536-4059-9b22-d9b15cef485e",
   "metadata": {},
   "outputs": [
    {
     "name": "stdout",
     "output_type": "stream",
     "text": [
      "name: Prajwol\n",
      "age: 30\n",
      "city: Kathmandu\n",
      "Gender: Male\n"
     ]
    }
   ],
   "source": [
    "# Adding or updating key-value pairs\n",
    "\n",
    "student[\"Gender\"] = \"Male\"  # adding a new key-value pair\n",
    "student[\"age\"] = 30\n",
    "\n",
    "for key, value in student.items():  # updating an existing key's value\n",
    "    print(f\"{key}: {value}\")"
   ]
  },
  {
   "cell_type": "code",
   "execution_count": 174,
   "id": "962f3022-5f8f-407f-8b18-59b3f1cc8f3b",
   "metadata": {},
   "outputs": [
    {
     "name": "stdout",
     "output_type": "stream",
     "text": [
      "Kathmandu\n"
     ]
    }
   ],
   "source": [
    "# Removing Key-Value Pairs\n",
    "\n",
    "if \"age\" not in student: # checking for key existence\n",
    "    print(\"Age is already deleted\")\n",
    "else:\n",
    "    del student[\"age\"]  # removes the key 'age'\n",
    "\n",
    "city = student.pop(\"city\")  # removes 'city' and returns its value\n",
    "\n",
    "print(city)"
   ]
  },
  {
   "cell_type": "code",
   "execution_count": 175,
   "id": "63e02bbf-8664-4d16-9b04-0d6b65e6610d",
   "metadata": {},
   "outputs": [
    {
     "name": "stdout",
     "output_type": "stream",
     "text": [
      "{'a': 1, 'b': 3, 'c': 4}\n",
      "{'a': 1, 'b': 3, 'c': 4}\n"
     ]
    }
   ],
   "source": [
    "# Merging Dictionaries\n",
    "\n",
    "dict1 = {\"a\": 1, \"b\": 2}\n",
    "dict2 = {\"b\": 3, \"c\": 4}\n",
    "\n",
    "dict1.update(dict2)          # Merges dict2 into dict1\n",
    "# or\n",
    "merged_dict = dict1 | dict2  # Creates a new merged dictionary\n",
    "\n",
    "print(dict1)\n",
    "print(merged_dict)"
   ]
  },
  {
   "cell_type": "markdown",
   "id": "0eb173e4-bd4f-4018-965c-dac60122c3dd",
   "metadata": {},
   "source": [
    "# Use Cases for Dictionaries\n",
    "1. **Data Storage**: Store user information as key-value pairs.\n",
    "2. **Configuration Settings**: Hold app settings for easy modification.\n",
    "3. **Count Frequencies**: Count occurrences of items (e.g., word frequency).\n",
    "4. **Lookup Tables**: Quickly retrieve values based on keys (e.g., abbreviations).\n",
    "5. **Caching**: Store results of expensive function calls.\n",
    "6. **Grouping Data**: Collect related data (e.g., books and authors).\n",
    "7. **Data Validation**: Validate inputs against accepted values.\n",
    "8. **Dynamic Data Structures**: Create complex nested structures.\n",
    "9. **Event Handling**: Map events to their handlers.\n",
    "10. **Mapping IDs**: Link unique identifiers to objects or records."
   ]
  }
 ],
 "metadata": {
  "kernelspec": {
   "display_name": "Python 3 (ipykernel)",
   "language": "python",
   "name": "python3"
  },
  "language_info": {
   "codemirror_mode": {
    "name": "ipython",
    "version": 3
   },
   "file_extension": ".py",
   "mimetype": "text/x-python",
   "name": "python",
   "nbconvert_exporter": "python",
   "pygments_lexer": "ipython3",
   "version": "3.12.4"
  }
 },
 "nbformat": 4,
 "nbformat_minor": 5
}
